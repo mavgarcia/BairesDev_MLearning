{
 "cells": [
  {
   "cell_type": "markdown",
   "id": "370ae670-264a-4428-8d68-6882e9791bec",
   "metadata": {},
   "source": [
    "# Exercício de Fundamentos e Práticas de Deep Learning - Marco Aurélio Garcia\n",
    "## Criação de Uma Base de Dados e Treinamento da Rede YOLO\n",
    "\n",
    "O presente notebook tem o objetivo de resolver o desafio final do curso de Machine Learning - Fundamentos e Práticas de Deep Learning, criando uma nova base de dados para treinamento da rede YOLO e realizando o treinamento com base nos pesos aferidos em treinamento pregresso através de transfer learning; por fim é realizada uma avaliação em uma série de imagens não rotuladas.\n",
    "\n",
    "Para atender o desafio foram coletadas para treinamento 10 imagens de cachorros da raça Akita e outras 10 imagens de cachorros da raça Shiba, ambos de origem Japonesa. Adicionalmente foram coletadas outras 15 imagens para validação manual dos resultados.\n",
    "As 20 imagens foram segmentadas e classificadas, gerando as anotações em formato COCO que necessitaram conversão para formato YOLO.\n",
    "\n",
    "O treinamento da rede foi realizado gerando um novo arquivo de pesos que foi por fim utilizado para testar a identificação dos cães e classificação das raças nas 15 imagens de validação.\n",
    "\n",
    "\n",
    "\n",
    "Para fazer uso da rede YOLO, utilizamos a implementação de Aleksei Bochkovskii, presente em https://github.com/AlexeyAB/darknet por facilitar a instalação em ambiente windows. Adicionalmente achamos uma ótima orientação passo a passo presente blog https://graiphic.io/setup-darknet-environment/, escrita por Corentin Maravat.\n",
    "\n",
    "Para criação da base de dados para treinamento, utilizamos VGG Image Anotator (VIA) https://www.robots.ox.ac.uk/~vgg/software/via/. Criado pelo Visual Geometry Group da Universidade de Oxford, trata-se de uma ferramenta standalone simples para anotação em imagens, áudios e vídeos. Para criar as anotações conforme formato exigido pela rede YOLO, foi necessário também criar um notebook para converter as anotações geradas pelo VIA, neste caso achamos muito útil a orientação de conversão de formato COCO para YOLO, documentada por Abdul Rehman em https://medium.com/red-buffer/converting-a-custom-dataset-from-coco-format-to-yolo-format-6d98a4fd43fc.\n",
    "\n",
    "Abaixo listo outras referências utilizadas como pesquisa para este trabalho:\n",
    "\n",
    "\n",
    "\n"
   ]
  },
  {
   "cell_type": "markdown",
   "id": "d361a53a-9df2-4aed-903e-8b75b54c7b5a",
   "metadata": {},
   "source": [
    "## Conversão das anotações em formato COCO para YOLO\n",
    "\n"
   ]
  },
  {
   "cell_type": "code",
   "execution_count": 1,
   "id": "863a8849-2686-40ba-a255-6181da47e8f9",
   "metadata": {},
   "outputs": [],
   "source": [
    "# Importação dos pacotes necessários para o processo\n",
    "import json\n",
    "import cv2\n",
    "import os\n",
    "import matplotlib.pyplot as plt\n",
    "import shutil"
   ]
  },
  {
   "cell_type": "code",
   "execution_count": 2,
   "id": "857fb4e0-7aae-400e-99a6-38fe6a9e6029",
   "metadata": {},
   "outputs": [],
   "source": [
    "# Definição dos diretórios onde estão as imagens originais e destino onde serão depositados os novos arquivos e suas anotações convertidas para YOLO\n",
    "\n",
    "# Diretório do inu_dataset\n",
    "input_path = \"../Downloads/yolo_inu_classification/Inu_dataset/\"\n",
    "\n",
    "# O diretório de destino deve ser configurado com o caminho onde está instalado a rede darkent YOLO. Deve ser criado o diretório \"inu\" em data.\n",
    "output_path = \"../darknet-master/build/darknet/x64/data/inu/\"\n",
    "# diretório data utilizado pela rede YOLO\n",
    "data_path = \"../darknet-master/build/darknet/x64/data/\"\n",
    "# diretório onde está o arquivo Darknet.exe\n",
    "darknet_path = \"../darknet-master/\""
   ]
  },
  {
   "cell_type": "code",
   "execution_count": 3,
   "id": "5aa7dd1f-0c9b-4a27-8c1f-2051cdf99e9e",
   "metadata": {},
   "outputs": [],
   "source": [
    "# Realiza a leitura do arquivo de anotações em formato COCO e deposita seu conteúdo na variável \"coco_annotation\"\n",
    "f = open(input_path + 'New_Inu_Dataset___coco.json')\n",
    "coco_annotation = json.load(f)\n",
    "f.close()\n"
   ]
  },
  {
   "cell_type": "code",
   "execution_count": 5,
   "id": "631630ce-187a-462c-abe7-5ee6aa867d16",
   "metadata": {},
   "outputs": [
    {
     "name": "stdout",
     "output_type": "stream",
     "text": [
      "Lista de arquivos lidos:  ['ak1.jpg', 'ak10.jpg', 'ak2.jpg', 'ak3.jpeg', 'ak4.jpeg', 'ak5.jpg', 'ak6.jpg', 'ak7.jpg', 'ak8.jpg', 'ak9.jpg', 'sh1.jpg', 'sh10.jpg', 'sh2.jpg', 'sh3.jpg', 'sh4.jpg', 'sh5.jpg', 'sh6.jpg', 'sh7.jpg', 'sh8.jpg', 'sh9.jpg']\n"
     ]
    }
   ],
   "source": [
    "# Define uma lista com o nome original de cada arquivo de imagem, adicionalmente define uma função para obter os nomes dos arquivos, \n",
    "# copiando-os com novos nomes para o diretório de destino\n",
    "\n",
    "file_names = []\n",
    "\n",
    "def load_images_from_folder(folder):\n",
    "  count = 0\n",
    "  for filename in os.listdir(folder):\n",
    "        tipo_arquivo = os.path.splitext(filename)[1]\n",
    "        if os.path.splitext(filename)[1].lower() in ['.jpg','.png','.jpeg']:\n",
    "            source = os.path.join(folder,filename)\n",
    "            destination = f\"{output_path}/img{count}.jpg\"\n",
    "            try:\n",
    "                shutil.copy(source, destination)\n",
    "                # Caso o arquivo já exista\n",
    "            except shutil.SameFileError:\n",
    "                print(\"Já existe um arquivo com este mesmo nome no destino: \", filename)\n",
    "\n",
    "            file_names.append(filename)\n",
    "            count += 1\n",
    "\n",
    "load_images_from_folder(input_path + '/original_dataset/')\n",
    "print(\"Lista de arquivos lidos: \", file_names)"
   ]
  },
  {
   "cell_type": "code",
   "execution_count": 6,
   "id": "26e68f49-5180-4569-93e1-2d07f77de634",
   "metadata": {},
   "outputs": [],
   "source": [
    "# Define uma função para capturar, nas anotações em COCO, o objeto de anotação de uma dada image atraves de seu ID que é passado como parâmetro\n",
    "\n",
    "def get_img_ann(image_id):\n",
    "    img_ann = []\n",
    "    isFound = False\n",
    "    for ann in coco_annotation['annotations']:\n",
    "        if ann['image_id'] == image_id:\n",
    "            img_ann.append(ann)\n",
    "            isFound = True\n",
    "    if isFound:\n",
    "        return img_ann\n",
    "    else:\n",
    "        return None"
   ]
  },
  {
   "cell_type": "code",
   "execution_count": 7,
   "id": "54959db7-dbeb-485a-bae1-11f61bbde3f5",
   "metadata": {},
   "outputs": [],
   "source": [
    "# Define uma função para capturar, nas anotações em COCO, as informações sobre a imagem cujo nome (path completo) foi passado como parâmetro\n",
    "def get_img(filename):\n",
    "  for img in coco_annotation['images']:\n",
    "    if img['file_name'] == filename:\n",
    "      return img"
   ]
  },
  {
   "cell_type": "code",
   "execution_count": 8,
   "id": "8a7cc239-b91e-4d07-b015-93e069e6efd7",
   "metadata": {},
   "outputs": [
    {
     "name": "stdout",
     "output_type": "stream",
     "text": [
      "ak1.jpg :  0 0.476837 0.565947 0.384984 0.671463\n",
      "ak10.jpg :  0 0.651699 0.558528 0.633495 0.862876\n",
      "ak10.jpg :  0 0.177184 0.436455 0.344660 0.852843\n",
      "ak2.jpg :  0 0.607812 0.529167 0.526563 0.922222\n",
      "ak3.jpeg :  0 0.582103 0.471510 0.830582 0.923077\n",
      "ak4.jpeg :  0 0.577344 0.470641 0.438281 0.761534\n",
      "ak5.jpg :  0 0.461111 0.403125 0.901852 0.795139\n",
      "ak6.jpg :  0 0.189941 0.359010 0.256836 0.547455\n",
      "ak6.jpg :  0 0.433105 0.614168 0.213867 0.713893\n",
      "ak6.jpg :  0 0.617188 0.596286 0.169922 0.702889\n",
      "ak6.jpg :  0 0.829102 0.595598 0.238281 0.726272\n",
      "ak7.jpg :  0 0.357823 0.565737 0.650340 0.796813\n",
      "ak8.jpg :  0 0.486667 0.488839 0.937778 0.941964\n",
      "ak9.jpg :  0 0.471042 0.574742 0.895753 0.840206\n",
      "sh1.jpg :  1 0.620500 0.541979 0.745000 0.877061\n",
      "sh10.jpg :  1 0.320261 0.421546 0.352941 0.576112\n",
      "sh2.jpg :  1 0.549618 0.515625 0.526718 0.864583\n",
      "sh3.jpg :  1 0.432616 0.553230 0.391547 0.836124\n",
      "sh4.jpg :  1 0.609091 0.502778 0.350649 0.831481\n",
      "sh4.jpg :  1 0.269481 0.491667 0.300000 0.831481\n",
      "sh5.jpg :  1 0.274309 0.500156 0.536778 0.990923\n",
      "sh6.jpg :  1 0.334250 0.509786 0.273500 0.971530\n",
      "sh6.jpg :  1 0.700250 0.495107 0.367500 0.988434\n",
      "sh7.jpg :  1 0.417000 0.628186 0.416000 0.710645\n",
      "sh8.jpg :  1 0.540850 0.595588 0.359477 0.607843\n",
      "sh9.jpg :  1 0.298182 0.597450 0.501818 0.754098\n",
      "sh9.jpg :  1 0.757273 0.548270 0.401818 0.816029\n"
     ]
    }
   ],
   "source": [
    "# Para cada nome de arquivo presente na lista file_names é realizada:\n",
    "# Extração de informações relevantes sobre a imagem nas anotações COCO\n",
    "# Coleta das anotações referentes à imagem\n",
    "# Criação do arquivo individual de anotação da imagem em formato YOLO\n",
    "# Coleta das coordenadas do retângulo que segmenta o objeto na imagem através do objeto json bbox (bounding box - caixa delimitadora)\n",
    "# Converte a categoria do objeto o ID da classe - 1 e realiza a conversão das coordenadas \n",
    "\n",
    "# A Etiqueta YOLO para cada objeto na imagem tem o seguinte formato: <classe> <centro_x> <centro_y> <largura> <altura>, \n",
    "# Ex: 0 0.476837 0.565947 0.384984 0.671463\n",
    "# Cada objeto presente na imagem deve ter uma linha, onde:\n",
    "# <class>: O rótulo de classe do objeto.\n",
    "# <x_center>: A coordenada x normalizada do centro da caixa delimitadora.\n",
    "# <y_center>: A coordenada y normalizada do centro da caixa delimitadora.\n",
    "# <largura>: A largura normalizada da caixa delimitadora.\n",
    "# <altura>: A altura normalizada da caixa delimitadora.\n",
    "\n",
    "\n",
    "count = 0\n",
    "\n",
    "for filename in file_names:\n",
    "  # Extração de informações relevantes sobre a imagem nas anotações COCO\n",
    "  img = get_img(filename)\n",
    "  # print(filename)\n",
    "  img_id = img['id']\n",
    "  img_w = img['width']\n",
    "  img_h = img['height']\n",
    "\n",
    "  # Coleta das anotações referentes à imagem\n",
    "  img_ann = get_img_ann(img_id)\n",
    "\n",
    "  if img_ann:\n",
    "    # Criação do arquivo individual de anotação da imagem em formato YOLO\n",
    "    file_object = open(f\"{output_path}/img{count}.txt\", \"a\")\n",
    "\n",
    "    for ann in img_ann:\n",
    "      \n",
    "      # Coleta das coordenadas do retângulo que segmenta o objeto na imagem através do objeto json bbox (bounding box - caixa delimitadora)\n",
    "      current_bbox = ann['bbox']\n",
    "      x = current_bbox[0]\n",
    "      y = current_bbox[1]\n",
    "      w = current_bbox[2]\n",
    "      h = current_bbox[3]\n",
    "\n",
    "      # Converte a categoria do objeto o ID da classe - 1 e realiza a conversão das coordenadas \n",
    "      current_category = ann['category_id'] - 1 # As yolo format labels start from 0 \n",
    "      # Calcula os pontos centrais do bounding box\n",
    "      x_centre = (x + (x+w))/2\n",
    "      y_centre = (y + (y+h))/2\n",
    "      \n",
    "      # Normaliza os valores \n",
    "      x_centre = x_centre / img_w\n",
    "      y_centre = y_centre / img_h\n",
    "      w = w / img_w\n",
    "      h = h / img_h\n",
    "      \n",
    "      # formata os valores com seis casas decimais\n",
    "      x_centre = format(x_centre, '.6f')\n",
    "      y_centre = format(y_centre, '.6f')\n",
    "      w = format(w, '.6f')\n",
    "      h = format(h, '.6f')\n",
    "          \n",
    "      # Escreve a linha com a anotação referente ao objeto na etiqueta da imagem\n",
    "      file_object.write(f\"{current_category} {x_centre} {y_centre} {w} {h}\\n\")\n",
    "      print(filename, \": \", f\"{current_category} {x_centre} {y_centre} {w} {h}\")\n",
    "\n",
    "    file_object.close()\n",
    "    count += 1  # This should be outside the if img_ann block."
   ]
  },
  {
   "cell_type": "code",
   "execution_count": 9,
   "id": "819cbb7c-8099-44a6-8ce3-aec5220fde13",
   "metadata": {},
   "outputs": [],
   "source": [
    "# Transfere os arquivos de configuração para treinamento da rede YOLO para os diretórios adequados na estrutura darknet\n",
    "try:\n",
    "    # Arquivo com as informações sobre o dataset\n",
    "    shutil.copy(os.path.join(input_path,\"inu.data\"), os.path.join(data_path,\"inu.data\")) \n",
    "    # Arquivo com o nome das classes na ordem equivalente aos seus IDs COCO\n",
    "    shutil.copy(os.path.join(input_path,\"inu.names\"), os.path.join(data_path,\"inu.names\")) \n",
    "    # Relação de arquivos para testes \n",
    "    shutil.copy(os.path.join(input_path,\"inu_test.txt\"), os.path.join(data_path,\"inu_test.txt\")) \n",
    "    # Relação de arquivos para treinamento\n",
    "    shutil.copy(os.path.join(input_path,\"inu_train.txt\"), os.path.join(data_path,\"inu_train.txt\"))\n",
    "    # Configurações da rede YOLO para treinamento com as classes e quantidade de arquivos deste dataset\n",
    "    shutil.copy(os.path.join(input_path,\"yolo-inu.cfg\"), os.path.join(darknet_path,\"yolo-inu.cfg\"))\n",
    "    # Pesos aferidos durante o treinamento, após 2000 épocas.\n",
    "    shutil.copy(os.path.join(input_path,\"yolo-inu_2000.weights\"), os.path.join(darknet_path,\"yolo-inu_2000.weights\"))  \n",
    "except shutil.SameFileError as e:\n",
    "    print(f\"Falha na cópia dos arquivos: {e}\")\n"
   ]
  },
  {
   "cell_type": "code",
   "execution_count": null,
   "id": "28d73346-9f1f-40a9-9923-dd05f95fc4a5",
   "metadata": {},
   "outputs": [],
   "source": []
  }
 ],
 "metadata": {
  "kernelspec": {
   "display_name": "Python 3 (ipykernel)",
   "language": "python",
   "name": "python3"
  },
  "language_info": {
   "codemirror_mode": {
    "name": "ipython",
    "version": 3
   },
   "file_extension": ".py",
   "mimetype": "text/x-python",
   "name": "python",
   "nbconvert_exporter": "python",
   "pygments_lexer": "ipython3",
   "version": "3.9.0"
  }
 },
 "nbformat": 4,
 "nbformat_minor": 5
}
